{
  "cells": [
    {
      "cell_type": "markdown",
      "metadata": {
        "id": "view-in-github",
        "colab_type": "text"
      },
      "source": [
        "<a href=\"https://colab.research.google.com/github/AlvinKimata/Video-recognition-and-classification/blob/main/3D_CNN_on_MNIST_dataset.ipynb\" target=\"_parent\"><img src=\"https://colab.research.google.com/assets/colab-badge.svg\" alt=\"Open In Colab\"/></a>"
      ]
    },
    {
      "cell_type": "code",
      "execution_count": null,
      "metadata": {
        "colab": {
          "base_uri": "https://localhost:8080/"
        },
        "id": "MU6DX-XBxDqU",
        "outputId": "289e8f43-41ae-4f65-d9ca-bf863591ae5b"
      },
      "outputs": [
        {
          "output_type": "stream",
          "name": "stdout",
          "text": [
            "--2022-09-27 12:24:10--  https://debonair-sa.s3.af-south-1.amazonaws.com/datasets/3D+MNIST.zip\n",
            "Resolving debonair-sa.s3.af-south-1.amazonaws.com (debonair-sa.s3.af-south-1.amazonaws.com)... 52.95.175.41\n",
            "Connecting to debonair-sa.s3.af-south-1.amazonaws.com (debonair-sa.s3.af-south-1.amazonaws.com)|52.95.175.41|:443... connected.\n",
            "HTTP request sent, awaiting response... 200 OK\n",
            "Length: 160210751 (153M) [application/zip]\n",
            "Saving to: ‘3D+MNIST.zip’\n",
            "\n",
            "3D+MNIST.zip        100%[===================>] 152.79M  12.3MB/s    in 15s     \n",
            "\n",
            "2022-09-27 12:24:26 (10.5 MB/s) - ‘3D+MNIST.zip’ saved [160210751/160210751]\n",
            "\n"
          ]
        }
      ],
      "source": [
        "!wget 'https://debonair-sa.s3.af-south-1.amazonaws.com/datasets/3D+MNIST.zip'"
      ]
    },
    {
      "cell_type": "code",
      "execution_count": null,
      "metadata": {
        "id": "bn8gqxK8xKQz"
      },
      "outputs": [],
      "source": [
        "import os\n",
        "import h5py\n",
        "import zipfile\n",
        "import numpy as np\n",
        "\n",
        "import tensorflow as tf"
      ]
    },
    {
      "cell_type": "code",
      "source": [
        "#Extract the dataset.\n",
        "zip_ref = zipfile.ZipFile('/content/3D+MNIST.zip')\n",
        "zip_ref.extractall()\n",
        "zip_ref.close()"
      ],
      "metadata": {
        "id": "44Cd0nBQ10Ei"
      },
      "execution_count": null,
      "outputs": []
    },
    {
      "cell_type": "markdown",
      "source": [
        "## Load the dataset from the `full_dataset_vectors.h5' file.`"
      ],
      "metadata": {
        "id": "PAjWnqVq2TO_"
      }
    },
    {
      "cell_type": "code",
      "source": [
        "with h5py.File('/content/full_dataset_vectors.h5', 'r') as dataset:\n",
        "  X_train, X_test = dataset['X_train'][:], dataset['X_test'][:]\n",
        "  y_train, y_test = dataset['y_train'][:], dataset['y_test'][:]\n",
        "\n",
        "\n",
        "X_train = np.array(X_train)\n",
        "X_test = np.array(X_test)\n",
        "\n",
        "print(f'Train shape is: {X_train.shape}')\n",
        "print(f'Test shape is: {X_test.shape}')"
      ],
      "metadata": {
        "colab": {
          "base_uri": "https://localhost:8080/"
        },
        "id": "wsVgzgn32GBG",
        "outputId": "9e681a66-629a-40f1-ef67-8b2957f19c61"
      },
      "execution_count": null,
      "outputs": [
        {
          "output_type": "stream",
          "name": "stdout",
          "text": [
            "Train shape is: (10000, 4096)\n",
            "Test shape is: (2000, 4096)\n"
          ]
        }
      ]
    },
    {
      "cell_type": "code",
      "source": [
        "X_train = X_train.reshape(X_train.shape[0], 16, 16, 16, 1)\n",
        "X_test = X_test.reshape(X_test.shape[0], 16, 16, 16, 1)\n",
        "y_train = tf.keras.utils.to_categorical(y_train, num_classes = 10)\n",
        "y_test = tf.keras.utils.to_categorical(y_test, num_classes = 10)"
      ],
      "metadata": {
        "id": "0x-AwJZo3BoL"
      },
      "execution_count": null,
      "outputs": []
    },
    {
      "cell_type": "code",
      "source": [
        "X_train.shape[1:]"
      ],
      "metadata": {
        "colab": {
          "base_uri": "https://localhost:8080/"
        },
        "id": "fBvJU6FK3y7m",
        "outputId": "fc41749b-dc61-4a26-d2a5-3a328f12bed1"
      },
      "execution_count": null,
      "outputs": [
        {
          "output_type": "execute_result",
          "data": {
            "text/plain": [
              "(16, 16, 16, 1)"
            ]
          },
          "metadata": {},
          "execution_count": 6
        }
      ]
    },
    {
      "cell_type": "code",
      "source": [
        "#Building the 3D CNN.\n",
        "model = tf.keras.Sequential([\n",
        "    tf.keras.layers.Conv3D(32, (3, 3, 3), activation = 'relu', input_shape = (X_train.shape[1:]), bias_initializer = tf.keras.initializers.Constant(0.01)),\n",
        "    tf.keras.layers.Conv3D(32, (3, 3, 3), activation = 'relu', bias_initializer = tf.keras.initializers.Constant(0.01)),\n",
        "    tf.keras.layers.MaxPooling3D(pool_size = (2, 2, 2)),\n",
        "\n",
        "    tf.keras.layers.Conv3D(64, (3, 3, 3), activation = 'relu'),\n",
        "    tf.keras.layers.Conv3D(64, (3, 3, 3), activation = 'relu'),\n",
        "    tf.keras.layers.MaxPooling3D(pool_size = (2, 2, 2)),\n",
        "\n",
        "    tf.keras.layers.Dropout(0.6),\n",
        "    tf.keras.layers.Flatten(),\n",
        "    tf.keras.layers.Dense(256, activation = 'relu'),\n",
        "    tf.keras.layers.Dropout(0.7),\n",
        "    tf.keras.layers.Dense(128, activation = 'relu'),\n",
        "    tf.keras.layers.Dropout(0.5),\n",
        "    tf.keras.layers.Dense(10, activation = 'softmax')\n",
        "\n",
        "])\n",
        "\n",
        "\n",
        "#Compile the model.\n",
        "model.compile(optimizer = tf.keras.optimizers.Adam(learning_rate = 0.001),\n",
        "              loss = 'categorical_crossentropy',\n",
        "              metrics = 'accuracy')\n",
        "\n",
        "model.summary()"
      ],
      "metadata": {
        "colab": {
          "base_uri": "https://localhost:8080/"
        },
        "id": "GTHslOrR3fAm",
        "outputId": "2e090996-afb5-4711-b91c-56aa19f80f1b"
      },
      "execution_count": null,
      "outputs": [
        {
          "output_type": "stream",
          "name": "stdout",
          "text": [
            "Model: \"sequential\"\n",
            "_________________________________________________________________\n",
            " Layer (type)                Output Shape              Param #   \n",
            "=================================================================\n",
            " conv3d (Conv3D)             (None, 14, 14, 14, 32)    896       \n",
            "                                                                 \n",
            " conv3d_1 (Conv3D)           (None, 12, 12, 12, 32)    27680     \n",
            "                                                                 \n",
            " max_pooling3d (MaxPooling3D  (None, 6, 6, 6, 32)      0         \n",
            " )                                                               \n",
            "                                                                 \n",
            " conv3d_2 (Conv3D)           (None, 4, 4, 4, 64)       55360     \n",
            "                                                                 \n",
            " conv3d_3 (Conv3D)           (None, 2, 2, 2, 64)       110656    \n",
            "                                                                 \n",
            " max_pooling3d_1 (MaxPooling  (None, 1, 1, 1, 64)      0         \n",
            " 3D)                                                             \n",
            "                                                                 \n",
            " dropout (Dropout)           (None, 1, 1, 1, 64)       0         \n",
            "                                                                 \n",
            " flatten (Flatten)           (None, 64)                0         \n",
            "                                                                 \n",
            " dense (Dense)               (None, 256)               16640     \n",
            "                                                                 \n",
            " dropout_1 (Dropout)         (None, 256)               0         \n",
            "                                                                 \n",
            " dense_1 (Dense)             (None, 128)               32896     \n",
            "                                                                 \n",
            " dropout_2 (Dropout)         (None, 128)               0         \n",
            "                                                                 \n",
            " dense_2 (Dense)             (None, 10)                1290      \n",
            "                                                                 \n",
            "=================================================================\n",
            "Total params: 245,418\n",
            "Trainable params: 245,418\n",
            "Non-trainable params: 0\n",
            "_________________________________________________________________\n"
          ]
        }
      ]
    },
    {
      "cell_type": "code",
      "source": [
        "model.fit(X_train, y_train, epochs = 200, batch_size = 128, \n",
        "          verbose = 1, validation_data = (X_test, y_test),\n",
        "          callbacks = tf.keras.callbacks.EarlyStopping(patience = 45))"
      ],
      "metadata": {
        "colab": {
          "base_uri": "https://localhost:8080/"
        },
        "id": "EpIK6fqO5hgQ",
        "outputId": "01402ee2-8b7c-4b3f-d93b-a53e4b26e5d5"
      },
      "execution_count": null,
      "outputs": [
        {
          "output_type": "stream",
          "name": "stdout",
          "text": [
            "Epoch 1/200\n",
            "79/79 [==============================] - 15s 35ms/step - loss: 2.3026 - accuracy: 0.1052 - val_loss: 2.2994 - val_accuracy: 0.1260\n",
            "Epoch 2/200\n",
            "79/79 [==============================] - 2s 30ms/step - loss: 2.2618 - accuracy: 0.1286 - val_loss: 2.1023 - val_accuracy: 0.2505\n",
            "Epoch 3/200\n",
            "79/79 [==============================] - 2s 29ms/step - loss: 2.0640 - accuracy: 0.2421 - val_loss: 1.8202 - val_accuracy: 0.3365\n",
            "Epoch 4/200\n",
            "79/79 [==============================] - 2s 30ms/step - loss: 1.8650 - accuracy: 0.3248 - val_loss: 1.5820 - val_accuracy: 0.4210\n",
            "Epoch 5/200\n",
            "79/79 [==============================] - 2s 29ms/step - loss: 1.7435 - accuracy: 0.3716 - val_loss: 1.4833 - val_accuracy: 0.4990\n",
            "Epoch 6/200\n",
            "79/79 [==============================] - 2s 29ms/step - loss: 1.6406 - accuracy: 0.4046 - val_loss: 1.3705 - val_accuracy: 0.5240\n",
            "Epoch 7/200\n",
            "79/79 [==============================] - 2s 31ms/step - loss: 1.5757 - accuracy: 0.4304 - val_loss: 1.3672 - val_accuracy: 0.5345\n",
            "Epoch 8/200\n",
            "79/79 [==============================] - 2s 31ms/step - loss: 1.5182 - accuracy: 0.4509 - val_loss: 1.2808 - val_accuracy: 0.5605\n",
            "Epoch 9/200\n",
            "79/79 [==============================] - 2s 29ms/step - loss: 1.4618 - accuracy: 0.4736 - val_loss: 1.2345 - val_accuracy: 0.5765\n",
            "Epoch 10/200\n",
            "79/79 [==============================] - 2s 29ms/step - loss: 1.4410 - accuracy: 0.4823 - val_loss: 1.2284 - val_accuracy: 0.5805\n",
            "Epoch 11/200\n",
            "79/79 [==============================] - 2s 29ms/step - loss: 1.4039 - accuracy: 0.4966 - val_loss: 1.1856 - val_accuracy: 0.5970\n",
            "Epoch 12/200\n",
            "79/79 [==============================] - 2s 29ms/step - loss: 1.3651 - accuracy: 0.5158 - val_loss: 1.1552 - val_accuracy: 0.5940\n",
            "Epoch 13/200\n",
            "79/79 [==============================] - 2s 29ms/step - loss: 1.3282 - accuracy: 0.5264 - val_loss: 1.1312 - val_accuracy: 0.6010\n",
            "Epoch 14/200\n",
            "79/79 [==============================] - 2s 29ms/step - loss: 1.3017 - accuracy: 0.5384 - val_loss: 1.1051 - val_accuracy: 0.6065\n",
            "Epoch 15/200\n",
            "79/79 [==============================] - 2s 29ms/step - loss: 1.2668 - accuracy: 0.5513 - val_loss: 1.0938 - val_accuracy: 0.6125\n",
            "Epoch 16/200\n",
            "79/79 [==============================] - 2s 29ms/step - loss: 1.2252 - accuracy: 0.5585 - val_loss: 1.0807 - val_accuracy: 0.6085\n",
            "Epoch 17/200\n",
            "79/79 [==============================] - 2s 29ms/step - loss: 1.1958 - accuracy: 0.5776 - val_loss: 1.1036 - val_accuracy: 0.6025\n",
            "Epoch 18/200\n",
            "79/79 [==============================] - 2s 30ms/step - loss: 1.1813 - accuracy: 0.5752 - val_loss: 1.0576 - val_accuracy: 0.6190\n",
            "Epoch 19/200\n",
            "79/79 [==============================] - 2s 31ms/step - loss: 1.1340 - accuracy: 0.5964 - val_loss: 1.0743 - val_accuracy: 0.6055\n",
            "Epoch 20/200\n",
            "79/79 [==============================] - 2s 29ms/step - loss: 1.1321 - accuracy: 0.5995 - val_loss: 1.0372 - val_accuracy: 0.6270\n",
            "Epoch 21/200\n",
            "79/79 [==============================] - 2s 31ms/step - loss: 1.0990 - accuracy: 0.6079 - val_loss: 1.0437 - val_accuracy: 0.6120\n",
            "Epoch 22/200\n",
            "79/79 [==============================] - 2s 30ms/step - loss: 1.0905 - accuracy: 0.6097 - val_loss: 1.0160 - val_accuracy: 0.6375\n",
            "Epoch 23/200\n",
            "79/79 [==============================] - 2s 30ms/step - loss: 1.0801 - accuracy: 0.6185 - val_loss: 1.0378 - val_accuracy: 0.6275\n",
            "Epoch 24/200\n",
            "79/79 [==============================] - 2s 30ms/step - loss: 1.0886 - accuracy: 0.6158 - val_loss: 1.0007 - val_accuracy: 0.6410\n",
            "Epoch 25/200\n",
            "79/79 [==============================] - 2s 30ms/step - loss: 1.0451 - accuracy: 0.6261 - val_loss: 1.0296 - val_accuracy: 0.6305\n",
            "Epoch 26/200\n",
            "79/79 [==============================] - 2s 29ms/step - loss: 1.0192 - accuracy: 0.6285 - val_loss: 1.0342 - val_accuracy: 0.6350\n",
            "Epoch 27/200\n",
            "79/79 [==============================] - 2s 31ms/step - loss: 1.0361 - accuracy: 0.6292 - val_loss: 0.9960 - val_accuracy: 0.6450\n",
            "Epoch 28/200\n",
            "79/79 [==============================] - 2s 30ms/step - loss: 0.9806 - accuracy: 0.6469 - val_loss: 1.0181 - val_accuracy: 0.6380\n",
            "Epoch 29/200\n",
            "79/79 [==============================] - 2s 31ms/step - loss: 0.9921 - accuracy: 0.6460 - val_loss: 1.0016 - val_accuracy: 0.6330\n",
            "Epoch 30/200\n",
            "79/79 [==============================] - 2s 29ms/step - loss: 0.9683 - accuracy: 0.6539 - val_loss: 0.9997 - val_accuracy: 0.6345\n",
            "Epoch 31/200\n",
            "79/79 [==============================] - 2s 30ms/step - loss: 0.9291 - accuracy: 0.6638 - val_loss: 0.9926 - val_accuracy: 0.6435\n",
            "Epoch 32/200\n",
            "79/79 [==============================] - 2s 29ms/step - loss: 0.9228 - accuracy: 0.6646 - val_loss: 0.9990 - val_accuracy: 0.6420\n",
            "Epoch 33/200\n",
            "79/79 [==============================] - 2s 29ms/step - loss: 0.9332 - accuracy: 0.6629 - val_loss: 0.9853 - val_accuracy: 0.6450\n",
            "Epoch 34/200\n",
            "79/79 [==============================] - 2s 30ms/step - loss: 0.8909 - accuracy: 0.6708 - val_loss: 0.9850 - val_accuracy: 0.6430\n",
            "Epoch 35/200\n",
            "79/79 [==============================] - 2s 29ms/step - loss: 0.9063 - accuracy: 0.6718 - val_loss: 0.9847 - val_accuracy: 0.6545\n",
            "Epoch 36/200\n",
            "79/79 [==============================] - 2s 29ms/step - loss: 0.8617 - accuracy: 0.6830 - val_loss: 0.9727 - val_accuracy: 0.6475\n",
            "Epoch 37/200\n",
            "79/79 [==============================] - 2s 31ms/step - loss: 0.8664 - accuracy: 0.6833 - val_loss: 1.0450 - val_accuracy: 0.6350\n",
            "Epoch 38/200\n",
            "79/79 [==============================] - 2s 29ms/step - loss: 0.8494 - accuracy: 0.6904 - val_loss: 1.0033 - val_accuracy: 0.6420\n",
            "Epoch 39/200\n",
            "79/79 [==============================] - 2s 31ms/step - loss: 0.8539 - accuracy: 0.6907 - val_loss: 0.9995 - val_accuracy: 0.6425\n",
            "Epoch 40/200\n",
            "79/79 [==============================] - 2s 30ms/step - loss: 0.8544 - accuracy: 0.6930 - val_loss: 0.9759 - val_accuracy: 0.6530\n",
            "Epoch 41/200\n",
            "79/79 [==============================] - 2s 29ms/step - loss: 0.8315 - accuracy: 0.6968 - val_loss: 1.0156 - val_accuracy: 0.6400\n",
            "Epoch 42/200\n",
            "79/79 [==============================] - 2s 29ms/step - loss: 0.7970 - accuracy: 0.7066 - val_loss: 1.0087 - val_accuracy: 0.6495\n",
            "Epoch 43/200\n",
            "79/79 [==============================] - 2s 31ms/step - loss: 0.8041 - accuracy: 0.7022 - val_loss: 1.0107 - val_accuracy: 0.6485\n",
            "Epoch 44/200\n",
            "79/79 [==============================] - 2s 30ms/step - loss: 0.8064 - accuracy: 0.7058 - val_loss: 1.0264 - val_accuracy: 0.6480\n",
            "Epoch 45/200\n",
            "79/79 [==============================] - 2s 30ms/step - loss: 0.8111 - accuracy: 0.7045 - val_loss: 1.0279 - val_accuracy: 0.6470\n",
            "Epoch 46/200\n",
            "79/79 [==============================] - 2s 30ms/step - loss: 0.7927 - accuracy: 0.7110 - val_loss: 1.0206 - val_accuracy: 0.6460\n",
            "Epoch 47/200\n",
            "79/79 [==============================] - 2s 29ms/step - loss: 0.7736 - accuracy: 0.7186 - val_loss: 1.0242 - val_accuracy: 0.6555\n",
            "Epoch 48/200\n",
            "79/79 [==============================] - 2s 29ms/step - loss: 0.7736 - accuracy: 0.7226 - val_loss: 1.0658 - val_accuracy: 0.6535\n",
            "Epoch 49/200\n",
            "79/79 [==============================] - 2s 29ms/step - loss: 0.7669 - accuracy: 0.7208 - val_loss: 1.0346 - val_accuracy: 0.6590\n",
            "Epoch 50/200\n",
            "79/79 [==============================] - 2s 31ms/step - loss: 0.7764 - accuracy: 0.7255 - val_loss: 0.9982 - val_accuracy: 0.6580\n",
            "Epoch 51/200\n",
            "79/79 [==============================] - 2s 30ms/step - loss: 0.7366 - accuracy: 0.7339 - val_loss: 1.0311 - val_accuracy: 0.6550\n",
            "Epoch 52/200\n",
            "79/79 [==============================] - 2s 31ms/step - loss: 0.7334 - accuracy: 0.7372 - val_loss: 1.0153 - val_accuracy: 0.6715\n",
            "Epoch 53/200\n",
            "79/79 [==============================] - 2s 30ms/step - loss: 0.7121 - accuracy: 0.7397 - val_loss: 1.0693 - val_accuracy: 0.6785\n",
            "Epoch 54/200\n",
            "79/79 [==============================] - 2s 30ms/step - loss: 0.7031 - accuracy: 0.7491 - val_loss: 0.9857 - val_accuracy: 0.6835\n",
            "Epoch 55/200\n",
            "79/79 [==============================] - 2s 31ms/step - loss: 0.6952 - accuracy: 0.7572 - val_loss: 1.0034 - val_accuracy: 0.6890\n",
            "Epoch 56/200\n",
            "79/79 [==============================] - 2s 30ms/step - loss: 0.6917 - accuracy: 0.7551 - val_loss: 0.9842 - val_accuracy: 0.6845\n",
            "Epoch 57/200\n",
            "79/79 [==============================] - 2s 29ms/step - loss: 0.6899 - accuracy: 0.7582 - val_loss: 1.0052 - val_accuracy: 0.6875\n",
            "Epoch 58/200\n",
            "79/79 [==============================] - 2s 29ms/step - loss: 0.6782 - accuracy: 0.7647 - val_loss: 1.0096 - val_accuracy: 0.6875\n",
            "Epoch 59/200\n",
            "79/79 [==============================] - 2s 29ms/step - loss: 0.6700 - accuracy: 0.7667 - val_loss: 0.9856 - val_accuracy: 0.6835\n",
            "Epoch 60/200\n",
            "79/79 [==============================] - 2s 31ms/step - loss: 0.6855 - accuracy: 0.7595 - val_loss: 1.0140 - val_accuracy: 0.6905\n",
            "Epoch 61/200\n",
            "79/79 [==============================] - 2s 31ms/step - loss: 0.6657 - accuracy: 0.7676 - val_loss: 1.0109 - val_accuracy: 0.6950\n",
            "Epoch 62/200\n",
            "79/79 [==============================] - 2s 29ms/step - loss: 0.6737 - accuracy: 0.7628 - val_loss: 1.0984 - val_accuracy: 0.6830\n",
            "Epoch 63/200\n",
            "79/79 [==============================] - 2s 31ms/step - loss: 0.6539 - accuracy: 0.7692 - val_loss: 1.0277 - val_accuracy: 0.6950\n",
            "Epoch 64/200\n",
            "79/79 [==============================] - 2s 29ms/step - loss: 0.6733 - accuracy: 0.7620 - val_loss: 1.0255 - val_accuracy: 0.6945\n",
            "Epoch 65/200\n",
            "79/79 [==============================] - 2s 29ms/step - loss: 0.6721 - accuracy: 0.7602 - val_loss: 1.0131 - val_accuracy: 0.6945\n",
            "Epoch 66/200\n",
            "79/79 [==============================] - 2s 31ms/step - loss: 0.6375 - accuracy: 0.7786 - val_loss: 1.0265 - val_accuracy: 0.6940\n",
            "Epoch 67/200\n",
            "79/79 [==============================] - 2s 31ms/step - loss: 0.6384 - accuracy: 0.7763 - val_loss: 1.0304 - val_accuracy: 0.6915\n",
            "Epoch 68/200\n",
            "79/79 [==============================] - 2s 29ms/step - loss: 0.6352 - accuracy: 0.7780 - val_loss: 1.0619 - val_accuracy: 0.6885\n",
            "Epoch 69/200\n",
            "79/79 [==============================] - 2s 29ms/step - loss: 0.6344 - accuracy: 0.7789 - val_loss: 1.0623 - val_accuracy: 0.6920\n",
            "Epoch 70/200\n",
            "79/79 [==============================] - 2s 29ms/step - loss: 0.6279 - accuracy: 0.7778 - val_loss: 1.0027 - val_accuracy: 0.6890\n",
            "Epoch 71/200\n",
            "79/79 [==============================] - 2s 31ms/step - loss: 0.6225 - accuracy: 0.7825 - val_loss: 1.0663 - val_accuracy: 0.6870\n",
            "Epoch 72/200\n",
            "79/79 [==============================] - 2s 29ms/step - loss: 0.6322 - accuracy: 0.7832 - val_loss: 1.0751 - val_accuracy: 0.6950\n",
            "Epoch 73/200\n",
            "79/79 [==============================] - 2s 29ms/step - loss: 0.6083 - accuracy: 0.7867 - val_loss: 1.0907 - val_accuracy: 0.6850\n",
            "Epoch 74/200\n",
            "79/79 [==============================] - 2s 29ms/step - loss: 0.5975 - accuracy: 0.7883 - val_loss: 1.0892 - val_accuracy: 0.6875\n",
            "Epoch 75/200\n",
            "79/79 [==============================] - 2s 29ms/step - loss: 0.6247 - accuracy: 0.7797 - val_loss: 1.1899 - val_accuracy: 0.6875\n",
            "Epoch 76/200\n",
            "79/79 [==============================] - 2s 29ms/step - loss: 0.6036 - accuracy: 0.7846 - val_loss: 1.1062 - val_accuracy: 0.6835\n",
            "Epoch 77/200\n",
            "79/79 [==============================] - 2s 31ms/step - loss: 0.6116 - accuracy: 0.7923 - val_loss: 1.1163 - val_accuracy: 0.6860\n",
            "Epoch 78/200\n",
            "79/79 [==============================] - 2s 29ms/step - loss: 0.6069 - accuracy: 0.7890 - val_loss: 1.1300 - val_accuracy: 0.6940\n",
            "Epoch 79/200\n",
            "79/79 [==============================] - 2s 31ms/step - loss: 0.5805 - accuracy: 0.8017 - val_loss: 1.1040 - val_accuracy: 0.6865\n",
            "Epoch 80/200\n",
            "79/79 [==============================] - 2s 29ms/step - loss: 0.5819 - accuracy: 0.7984 - val_loss: 1.1350 - val_accuracy: 0.6885\n",
            "Epoch 81/200\n",
            "79/79 [==============================] - 2s 29ms/step - loss: 0.5789 - accuracy: 0.7946 - val_loss: 1.1211 - val_accuracy: 0.6895\n"
          ]
        },
        {
          "output_type": "execute_result",
          "data": {
            "text/plain": [
              "<keras.callbacks.History at 0x7efdb02e4f90>"
            ]
          },
          "metadata": {},
          "execution_count": 8
        }
      ]
    },
    {
      "cell_type": "code",
      "source": [
        "#Preform inference.\n",
        "metrics = np.array(model.evaluate(X_test, y_test))\n",
        "print(metrics * 100)"
      ],
      "metadata": {
        "colab": {
          "base_uri": "https://localhost:8080/"
        },
        "id": "iecjAr_Z58tr",
        "outputId": "bf18cdde-bd77-4adb-c876-444f23191a89"
      },
      "execution_count": null,
      "outputs": [
        {
          "output_type": "stream",
          "name": "stdout",
          "text": [
            "63/63 [==============================] - 0s 5ms/step - loss: 1.1211 - accuracy: 0.6895\n",
            "[112.11003065  68.94999743]\n"
          ]
        }
      ]
    }
  ],
  "metadata": {
    "colab": {
      "provenance": [],
      "collapsed_sections": [],
      "authorship_tag": "ABX9TyMVkuN4wSMmU7naOP33DpKO",
      "include_colab_link": true
    },
    "kernelspec": {
      "display_name": "Python 3",
      "name": "python3"
    },
    "language_info": {
      "name": "python"
    },
    "accelerator": "GPU"
  },
  "nbformat": 4,
  "nbformat_minor": 0
}